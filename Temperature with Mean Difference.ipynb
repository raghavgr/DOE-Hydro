{
 "cells": [
  {
   "cell_type": "markdown",
   "metadata": {},
   "source": [
    "# Mean Difference with Temperature Dataset\n",
    "\n",
    "Finding mean difference between four models for DJF seaoson."
   ]
  },
  {
   "cell_type": "code",
   "execution_count": 1,
   "metadata": {},
   "outputs": [],
   "source": [
    "import xarray as xr\n",
    "import numpy as np\n",
    "import pandas as pd\n",
    "from pandas import Series\n",
    "\n",
    "import matplotlib.pyplot as plt\n",
    "from mpl_toolkits.axes_grid1 import AxesGrid\n",
    "from mpl_toolkits.axes_grid1.axes_divider import make_axes_area_auto_adjustable\n",
    "\n",
    "import cartopy.crs as ccrs\n",
    "import cartopy.feature as cfeature\n",
    "from cartopy.mpl.geoaxes import GeoAxes"
   ]
  },
  {
   "cell_type": "markdown",
   "metadata": {},
   "source": [
    "### Loading datasets"
   ]
  },
  {
   "cell_type": "code",
   "execution_count": 2,
   "metadata": {},
   "outputs": [],
   "source": [
    "# temperature wrf datasets\n",
    "ds_wrf_1980 = xr.open_dataset('./data/DOE_VIC.narr_wrf.monthly.tas.1980-2012.nc')\n",
    "ds_wrf_2091 = xr.open_dataset('./data/DOE_VIC.narr_wrf.monthly.tas.2091-2100.nc')\n",
    "\n",
    "# temperature loca_wrf\n",
    "ds_loca_wrf_1980 = xr.open_dataset('./data/DOE_VIC.narr_LOCA_wrf.monthly.tas.1980-2012.nc')\n",
    "ds_loca_wrf_2091 = xr.open_dataset('./data/DOE_VIC.narr_LOCA_wrf.monthly.tas.2091-2100.nc')\n",
    "\n",
    "# Temperature _loca_14\n",
    "ds_loca_14_1980 = xr.open_dataset('./data/DOE_VIC.narr_LOCA_L14.monthly.tas.1980-2012.nc')\n",
    "ds_loca_14_2091 = xr.open_dataset('./data/DOE_VIC.narr_LOCA_L14.monthly.tas.2091-2100.nc')\n",
    "\n",
    "# Temperature _bcsd_L14\n",
    "ds_bcsd_L14_1980 = xr.open_dataset('./data/DOE_VIC.narr_BCSD_L14.monthly.tas.1980-2012.nc')\n",
    "ds_bcsd_L14_2091 = xr.open_dataset('./data/DOE_VIC.narr_BCSD_L14.monthly.tas.2091-2100.nc')"
   ]
  },
  {
   "cell_type": "code",
   "execution_count": 3,
   "metadata": {},
   "outputs": [],
   "source": [
    "# Export to pandas and check for not null values\n",
    "#ds_wrf_1980['tas']\n",
    "#test_df = ds_wrf_1980.to_dataframe()\n",
    "#test_df[test_df['tas'].notnull()]"
   ]
  },
  {
   "cell_type": "code",
   "execution_count": 4,
   "metadata": {},
   "outputs": [],
   "source": [
    "tas_wrf_from_1991 = ds_wrf_1980['tas'].sel(time=slice('1991-01-01', '2000-12-31'))\n",
    "tas_loca_wrf_from_1991 = ds_loca_wrf_1980['tas'].sel(time=slice('1991-01-01','2000-12-31'))\n",
    "tas_loca_14_from_1991 = ds_loca_14_1980['tas'].sel(time=slice('1991-01-01','2000-12-31'))\n",
    "tas_bcsd_L14_from_1991 = ds_bcsd_L14_1980['tas'].sel(time=slice('1991-01-01', '2000-12-31'))"
   ]
  },
  {
   "cell_type": "markdown",
   "metadata": {},
   "source": [
    "#### Mean difference of narr_wrf"
   ]
  },
  {
   "cell_type": "code",
   "execution_count": 5,
   "metadata": {},
   "outputs": [
    {
     "data": {
      "text/plain": [
       "<matplotlib.collections.QuadMesh at 0xd1d8cd5f8>"
      ]
     },
     "execution_count": 5,
     "metadata": {},
     "output_type": "execute_result"
    },
    {
     "data": {
      "image/png": "[encoded data removed]",
      "text/plain": [
       "<Figure size 432x288 with 2 Axes>"
      ]
     },
     "metadata": {},
     "output_type": "display_data"
    }
   ],
   "source": [
    "str_groupby = 'time.season'\n",
    "tas_wrf_1991 = tas_wrf_from_1991.groupby('time.season').mean('time')\n",
    "tas_wrf_2091 = ds_wrf_2091['tas'].groupby('time.season').mean('time')\n",
    "mean_diff_wrf_1991_2091 = (tas_wrf_2091.sel(season='DJF') - tas_wrf_1991.sel(season='DJF'))  \n",
    "mean_diff_wrf_1991_2091.plot(cmap='hot_r')"
   ]
  },
  {
   "cell_type": "markdown",
   "metadata": {},
   "source": [
    "#### Mean difference of narr_loca_wrf"
   ]
  },
  {
   "cell_type": "code",
   "execution_count": null,
   "metadata": {},
   "outputs": [
    {
     "data": {
      "text/plain": [
       "<matplotlib.collections.QuadMesh at 0xd1d9c86d8>"
      ]
     },
     "execution_count": 6,
     "metadata": {},
     "output_type": "execute_result"
    }
   ],
   "source": [
    "tas_loca_wrf_1991 = tas_loca_wrf_from_1991.groupby('time.season').mean('time')\n",
    "tas_loca_wrf_2091 = ds_loca_wrf_2091['tas'].groupby('time.season').mean('time')\n",
    "mean_diff_loca_wrf_1991_2091 = (tas_loca_wrf_2091.sel(season='DJF') - tas_loca_wrf_1991.sel(season='DJF'))\n",
    "mean_diff_loca_wrf_1991_2091.plot(cmap='hot_r')"
   ]
  },
  {
   "cell_type": "markdown",
   "metadata": {},
   "source": [
    "#### Mean difference of narr_loca_14"
   ]
  },
  {
   "cell_type": "code",
   "execution_count": null,
   "metadata": {},
   "outputs": [],
   "source": [
    "tas_loca_14_1991 = tas_loca_14_from_1991.groupby('time.season').mean('time')\n",
    "tas_loca_14_2091 = ds_loca_14_2091['tas'].groupby('time.season').mean('time')\n",
    "mean_diff_loca_14_1991_2091 = ((tas_loca_14_2091.sel(season='DJF') - tas_loca_14_1991.sel(season='DJF')))\n",
    "mean_diff_loca_14_1991_2091.plot(cmap='hot_r')"
   ]
  },
  {
   "cell_type": "markdown",
   "metadata": {},
   "source": [
    "#### Mean difference of narr_bcsd_L14"
   ]
  },
  {
   "cell_type": "code",
   "execution_count": null,
   "metadata": {},
   "outputs": [],
   "source": [
    "tas_bcsd_L14_1991 = tas_bcsd_L14_from_1991.groupby('time.season').mean('time')\n",
    "tas_bcsd_L14_2091 = ds_bcsd_L14_2091['tas'].groupby('time.season').mean('time')\n",
    "mean_diff_bcsd_L14_1991_2091 = (tas_loca_14_2091.sel(season='DJF') - tas_bcsd_L14_1991 .sel(season='DJF'))\n",
    "mean_diff_bcsd_L14_1991_2091.plot(cmap='hot_r')"
   ]
  },
  {
   "cell_type": "markdown",
   "metadata": {},
   "source": [
    "## Multi-plots"
   ]
  },
  {
   "cell_type": "code",
   "execution_count": null,
   "metadata": {
    "scrolled": true
   },
   "outputs": [],
   "source": [
    "# figsize=(18, 8)\n",
    "#fig, axes = plt.subplots(nrows=1, ncols=4 )\n",
    "\n",
    "\n",
    "\n",
    "mean_list = [mean_diff_wrf_1991_2091, mean_diff_loca_wrf_1991_2091, mean_diff_loca_14_1991_2091, mean_diff_bcsd_L14_1991_2091]\n",
    "projection = ccrs.PlateCarree()\n",
    "axes_class = (GeoAxes, dict(map_projection=projection))\n",
    "fig = plt.figure(figsize=(15, 15))\n",
    "axgr = AxesGrid(fig, 111, axes_class=axes_class,\n",
    "                nrows_ncols=(1, 4),\n",
    "                axes_pad = 0.2,\n",
    "                cbar_location=\"right\",\n",
    "                cbar_mode=\"single\",\n",
    "                cbar_pad=0.5,\n",
    "                label_mode='',\n",
    "                share_all=True\n",
    "                \n",
    "               )\n",
    "cbar_label_title = '℃'\n",
    "\n",
    "\n",
    "for i, ax in enumerate(axgr):\n",
    "    ax.add_feature(cfeature.BORDERS)\n",
    "    ax.add_feature(cfeature.COASTLINE)\n",
    "    ax.add_feature(cfeature.STATES)\n",
    "    ax.add_feature(cfeature.OCEAN)\n",
    "    ax.add_feature(cfeature.LAKES)\n",
    "    ax.set_extent([-125, -116, 43, 35])\n",
    "    ax.add_feature(cfeature.LAND)\n",
    "    ax.add_feature(cfeature.LAKES.with_scale('10m'), facecolor='none', edgecolor='tab:blue')\n",
    "    ax.add_feature(cfeature.RIVERS.with_scale('10m'), edgecolor='tab:blue')    \n",
    "    test_plt = mean_list[i].plot.pcolormesh(ax=axgr[i], transform=ccrs.PlateCarree(), x='longitude', y='latitude', cmap='hot_r', add_colorbar=False)\n",
    "    \n",
    "    \n",
    "\n",
    "axgr[0].set_title('narr_wrf')\n",
    "axgr[1].set_title('narr_LOCA_wrf')\n",
    "axgr[2].set_title('narr_LOCA_L14')\n",
    "axgr[3].set_title('narr_BCSD_L14')\n",
    "\n",
    "#make_axes_area_auto_adjustable(axgr[0], pad=0.2, use_axes=[axgr[0], axgr[1], axgr[2], axgr[3]])\n",
    "fig.subplots_adjust(left=0.14, top=1.64)\n",
    "fig.suptitle('Mean difference between forecast and actual Temperature data over the Sierra Nevada range for DJF season', fontsize=16, y=1.01)\n",
    "cb = axgr.cbar_axes[0].colorbar(test_plt)\n",
    "cb.set_label_text(cbar_label_title)\n",
    "\n"
   ]
  },
  {
   "cell_type": "markdown",
   "metadata": {},
   "source": [
    "## Multi-plots with seasonal variations for each model"
   ]
  },
  {
   "cell_type": "code",
   "execution_count": null,
   "metadata": {},
   "outputs": [],
   "source": [
    "#fig, axes = plt.subplots(nrows=4, ncols=3, figsize=(14,12))\n",
    "#mean_list = [mean_diff_wrf_1990_2091, mean_diff_loca_wrf_1990_2091, mean_diff_loca_14_1990_2091, mean_diff_bcsd_L14_1990_2091]\n",
    "projection = ccrs.PlateCarree()\n",
    "axes_class = (GeoAxes, dict(map_projection=projection))\n",
    "fig = plt.figure(figsize=(15, 15))\n",
    "axgr = AxesGrid(fig, 111, axes_class=axes_class,\n",
    "               nrows_ncols=(4, 3),\n",
    "               axes_pad = 0.5,\n",
    "                cbar_location=\"right\",\n",
    "                    cbar_mode=\"single\",\n",
    "                share_all=False,\n",
    "               label_mode='')\n",
    "cbar_label_title = '℃'\n",
    "\n",
    "for i, season in enumerate(('DJF', 'MAM', 'JJA')):\n",
    "    mean_diff_wrf_1991_2091 = ((tas_wrf_2091.sel(season=season) - tas_wrf_1991.sel(season=season))) \n",
    "    mean_diff_loca_wrf_1991_2091 = ((tas_loca_wrf_2091.sel(season=season) - tas_loca_wrf_1991.sel(season=season)))\n",
    "    mean_diff_loca_14_1991_2091 = ((tas_loca_14_2091.sel(season=season) - tas_loca_14_1991.sel(season=season)))\n",
    "    mean_diff_bcsd_L14_1991_2091 = ((tas_bcsd_L14_2091.sel(season=season) - tas_bcsd_L14_1991.sel(season=season)))\n",
    "    \n",
    "    test_plt_month = mean_diff_wrf_1991_2091.plot.pcolormesh(ax=axgr[i], add_colorbar=False, x='longitude', y='latitude', cmap='hot_r')\n",
    "    test_plt_month = mean_diff_loca_wrf_1991_2091.plot.pcolormesh(ax=axgr[3+i], add_colorbar=False, x='longitude', y='latitude', cmap='hot_r')\n",
    "    test_plt_month = mean_diff_loca_14_1991_2091.plot.pcolormesh(ax=axgr[6+i], add_colorbar=False, x='longitude', y='latitude', cmap='hot_r')\n",
    "    test_plt_month = mean_diff_bcsd_L14_1991_2091.plot.pcolormesh(ax=axgr[9+i], add_colorbar=False, x='longitude', y='latitude', cmap='hot_r')\n",
    "    \n",
    "for i, ax in enumerate(axgr):\n",
    "    ax.add_feature(cfeature.BORDERS)\n",
    "    ax.add_feature(cfeature.COASTLINE)\n",
    "    ax.add_feature(cfeature.STATES)\n",
    "    ax.add_feature(cfeature.OCEAN)\n",
    "    ax.add_feature(cfeature.LAKES)\n",
    "    ax.set_extent([-125, -116, 43, 35])\n",
    "    ax.add_feature(cfeature.LAND)\n",
    "    ax.add_feature(cfeature.LAKES.with_scale('10m'), facecolor='none', edgecolor='tab:blue')\n",
    "    ax.add_feature(cfeature.RIVERS.with_scale('10m'), edgecolor='tab:blue')\n",
    "    \n",
    "\n",
    "cb = axgr.cbar_axes[0].colorbar(test_plt_month)\n",
    "cb.set_label_text(cbar_label_title)\n"
   ]
  },
  {
   "cell_type": "code",
   "execution_count": null,
   "metadata": {},
   "outputs": [],
   "source": []
  }
 ],
 "metadata": {
  "kernelspec": {
   "display_name": "Python 3",
   "language": "python",
   "name": "python3"
  },
  "language_info": {
   "codemirror_mode": {
    "name": "ipython",
    "version": 3
   },
   "file_extension": ".py",
   "mimetype": "text/x-python",
   "name": "python",
   "nbconvert_exporter": "python",
   "pygments_lexer": "ipython3",
   "version": "3.6.5"
  }
 },
 "nbformat": 4,
 "nbformat_minor": 2
}
