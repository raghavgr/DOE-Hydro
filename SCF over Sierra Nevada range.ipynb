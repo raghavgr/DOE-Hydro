{
 "cells": [
  {
   "cell_type": "code",
   "execution_count": 27,
   "metadata": {},
   "outputs": [],
   "source": [
    "import xarray as xr\n",
    "import numpy as np\n",
    "import datetime\n",
    "import pandas as pd\n",
    "from pandas import Series\n",
    "from pandas import DateOffset\n",
    "import matplotlib.pyplot as plt\n",
    "from mpl_toolkits.axes_grid1 import AxesGrid\n",
    "from mpl_toolkits.axes_grid1.axes_divider import make_axes_area_auto_adjustable\n",
    "\n",
    "import cartopy.crs as ccrs\n",
    "import cartopy.feature as cfeature\n",
    "from cartopy.mpl.geoaxes import GeoAxes"
   ]
  },
  {
   "cell_type": "code",
   "execution_count": null,
   "metadata": {},
   "outputs": [],
   "source": [
    "# SCF _wrf\n",
    "ds_wrf_1980 = xr.open_dataset('./data/large_files/DOE_VIC.narr_wrf.daily.snowcover.1980-2012.nc')\n",
    "ds_wrf_2091 = xr.open_dataset('./data/large_files/DOE_VIC.narr_wrf.daily.snowcover.2091-2100.nc')\n",
    "\n",
    "# SCF _loca_wrf\n",
    "ds_loca_wrf_1980 = xr.open_dataset('./data/large_files/DOE_VIC.narr_LOCA_wrf.daily.snowcover.1980-2012.nc')\n",
    "ds_loca_wrf_2091 = xr.open_dataset('./data/large_files/DOE_VIC.narr_LOCA_wrf.daily.snowcover.2091-2100.nc')\n",
    "\n",
    "# SCF _loca_14\n",
    "ds_loca_14_1980 = xr.open_dataset('./data/large_files/DOE_VIC.narr_LOCA_L14.daily.snowcover.1980-2012.nc')\n",
    "ds_loca_14_2091 = xr.open_dataset('./data/large_files/DOE_VIC.narr_LOCA_L14.daily.snowcover.2091-2100.nc')\n",
    "\n",
    "# SCF _bcsd_L14\n",
    "ds_bcsd_L14_1980 = xr.open_dataset('./data/large_files/DOE_VIC.narr_BCSD_L14.daily.snowcover.1980-2012.nc')\n",
    "ds_bcsd_L14_2091 = xr.open_dataset('./data/large_files/DOE_VIC.narr_BCSD_L14.daily.snowcover.2091-2100.nc')"
   ]
  },
  {
   "cell_type": "code",
   "execution_count": null,
   "metadata": {},
   "outputs": [],
   "source": [
    "scf_wrf_1991 = ds_wrf_1980['snowcover'].sel(time=slice('1991-04-01', '2000-12-31'))\n",
    "scf_loca_wrf_1991 = ds_loca_wrf_1980['snowcover'].sel(time=slice('1991-04-01', '2000-12-31'))\n",
    "scf_loca_14_1991 = ds_bcsd_L14_1980['snowcover'].sel(time=slice('1991-04-01', '2000-12-31'))\n",
    "scf_bcsd_L14_1991 = ds_bcsd_L14_1980['snowcover'].sel(time=slice('1991-01-01', '2000-12-31'))"
   ]
  },
  {
   "cell_type": "markdown",
   "metadata": {},
   "source": [
    "### Setting up the date range"
   ]
  },
  {
   "cell_type": "code",
   "execution_count": null,
   "metadata": {},
   "outputs": [],
   "source": [
    "# Creating a pandas datetime range to collect data every year on April 1st\n",
    "# resource: https://stackoverflow.com/questions/32168848/how-to-create-a-pandas-datetimeindex-with-year-as-frequency\n",
    "\n",
    "past_range = pd.date_range('1991-04-01', periods=10, freq=pd.DateOffset(years=1))\n",
    "future_range = pd.date_range('2091-04-01', periods=10, freq=pd.DateOffset(years=1))\n",
    "future_range\n"
   ]
  },
  {
   "cell_type": "code",
   "execution_count": null,
   "metadata": {},
   "outputs": [],
   "source": [
    "# Formatting dates to strings. Not needed\n",
    "# frmtd_past_dates = [date.strftime('%Y-%m-%d') for date in past_range]\n",
    "# frmtd_past_dates"
   ]
  },
  {
   "cell_type": "code",
   "execution_count": null,
   "metadata": {},
   "outputs": [],
   "source": [
    "#test_data = []\n",
    "#for date in past_range:\n",
    "#    test_data.append(scf_wrf_1991.sel(time=date))\n"
   ]
  },
  {
   "cell_type": "markdown",
   "metadata": {},
   "source": [
    "### Mean difference of narr_wrf"
   ]
  },
  {
   "cell_type": "code",
   "execution_count": null,
   "metadata": {},
   "outputs": [],
   "source": [
    "combined_scf_wrf_past = xr.concat([i for i in [scf_wrf_1991.sel(time=date) for date in past_range]], 'time')\n",
    "combined_scf_wrf_future = xr.concat([i for i in [ds_wrf_2091['snowcover'].sel(time=date) for date in future_range]], 'time')\n",
    "combined_scf_wrf_future\n"
   ]
  },
  {
   "cell_type": "code",
   "execution_count": null,
   "metadata": {},
   "outputs": [],
   "source": [
    "wrf_res = (combined_scf_wrf_future.groupby('time.day').median('time') - combined_scf_wrf_past.groupby('time.day').median('time'))\n",
    "wrf_res.plot(cmap='bone_r')"
   ]
  },
  {
   "cell_type": "markdown",
   "metadata": {},
   "source": [
    "### Mean difference of narr_loca_wrf"
   ]
  },
  {
   "cell_type": "code",
   "execution_count": null,
   "metadata": {},
   "outputs": [],
   "source": [
    "combined_scf_loca_wrf_past = xr.concat([i for i in [scf_loca_wrf_1991.sel(time=date) for date in past_range]], 'time')\n",
    "combined_scf_loca_wrf_future = xr.concat([i for i in [ds_loca_wrf_2091['snowcover'].sel(time=date) for date in future_range]], 'time')\n",
    "\n",
    "\n",
    "loca_wrf_res = (combined_scf_loca_wrf_future.groupby('time.day').median('time') - combined_scf_loca_wrf_past.groupby('time.day').median('time'))\n",
    "loca_wrf_res.plot(cmap='bone_r')"
   ]
  },
  {
   "cell_type": "markdown",
   "metadata": {},
   "source": [
    "### Mean difference of narr_loca_14"
   ]
  },
  {
   "cell_type": "code",
   "execution_count": null,
   "metadata": {},
   "outputs": [],
   "source": [
    "combined_scf_loca_14_past = xr.concat([i for i in [scf_loca_14_1991.sel(time=date) for date in past_range]], 'time')\n",
    "combined_scf_loca_14_future = xr.concat([i for i in [ds_loca_14_2091['snowcover'].sel(time=date) for date in future_range]], 'time')\n",
    "\n",
    "loca_14_res = (combined_scf_loca_14_future.groupby('time.day').median('time') - combined_scf_loca_14_past.groupby('time.day').median('time'))\n",
    "loca_14_res.plot(cmap='bone_r')"
   ]
  },
  {
   "cell_type": "markdown",
   "metadata": {},
   "source": [
    "### Mean difference of narr_bcsd_14"
   ]
  },
  {
   "cell_type": "code",
   "execution_count": null,
   "metadata": {},
   "outputs": [],
   "source": [
    "combined_scf_bcsd_L14_past = xr.concat([i for i in [scf_bcsd_L14_1991.sel(time=date) for date in past_range]], 'time')\n",
    "combined_scf_bcsd_L14_future = xr.concat([i for i in [ds_bcsd_L14_2091['snowcover'].sel(time=date) for date in future_range]], 'time')\n",
    "\n"
   ]
  },
  {
   "cell_type": "code",
   "execution_count": null,
   "metadata": {},
   "outputs": [],
   "source": [
    "bcsd_res = (combined_scf_bcsd_L14_future.groupby('time.day').median('time') - combined_scf_bcsd_L14_past.groupby('time.day').median('time'))\n",
    "bcsd_res.plot(cmap='bone_r')"
   ]
  },
  {
   "cell_type": "markdown",
   "metadata": {},
   "source": [
    "## Multi-plots"
   ]
  },
  {
   "cell_type": "code",
   "execution_count": null,
   "metadata": {},
   "outputs": [],
   "source": [
    "\n",
    "\n",
    "\n",
    "mean_list = [wrf_res, loca_wrf_res, loca_14_res, bcsd_res]\n",
    "\n",
    "# Configuration for the map\n",
    "projection = ccrs.PlateCarree()\n",
    "axes_class = (GeoAxes, dict(map_projection=projection))\n",
    "fig = plt.figure(figsize=(15, 15))\n",
    "axgr = AxesGrid(fig, \n",
    "                111, \n",
    "                axes_class=axes_class,\n",
    "                nrows_ncols=(1, 4),\n",
    "                axes_pad=0.2,\n",
    "                share_all=True,\n",
    "                label_mode=\"\",\n",
    "                cbar_location=\"right\",\n",
    "                cbar_mode=\"single\",\n",
    "                cbar_pad=0.5\n",
    "               )\n",
    "cbar_label_title = 'ΔP%'\n",
    "\n",
    "\n",
    "for i, ax in enumerate(axgr):\n",
    "    ax.add_feature(cfeature.BORDERS)\n",
    "    ax.add_feature(cfeature.COASTLINE)\n",
    "    ax.add_feature(cfeature.STATES)\n",
    "    ax.add_feature(cfeature.OCEAN)\n",
    "    ax.add_feature(cfeature.LAKES)\n",
    "    ax.add_feature(cfeature.LAND)    \n",
    "    ax.add_feature(cfeature.LAKES.with_scale('10m'), facecolor='none', edgecolor='tab:blue')\n",
    "    ax.add_feature(cfeature.RIVERS.with_scale('10m'), edgecolor='tab:blue')   \n",
    "    # setting the location t\n",
    "    ax.set_extent([-125, -116, 43, 35])\n",
    "\n",
    "    djf_plt = mean_list[i].plot(ax=axgr[i], transform=ccrs.PlateCarree(), x='longitude', y='latitude', cmap='bone_r', add_colorbar=False)\n",
    "    \n",
    "\n",
    "axgr[0].set_title('narr_wrf')\n",
    "axgr[1].set_title('narr_LOCA_wrf')\n",
    "axgr[2].set_title('narr_LOCA_L14')\n",
    "axgr[3].set_title('narr_BCSD_L14')\n",
    "\n",
    "fig.subplots_adjust(left=0.14, top=1.64)\n",
    "fig.suptitle('Change in SCF over the Sierra Nevada range, on April 1st', fontsize=16, y=1.01)\n",
    "cb = axgr.cbar_axes[0].colorbar(djf_plt)\n",
    "#cb.set_label_text(cbar_label_title)"
   ]
  }
 ],
 "metadata": {
  "kernelspec": {
   "display_name": "Python 3",
   "language": "python",
   "name": "python3"
  },
  "language_info": {
   "codemirror_mode": {
    "name": "ipython",
    "version": 3
   },
   "file_extension": ".py",
   "mimetype": "text/x-python",
   "name": "python",
   "nbconvert_exporter": "python",
   "pygments_lexer": "ipython3",
   "version": "3.6.5"
  }
 },
 "nbformat": 4,
 "nbformat_minor": 2
}
